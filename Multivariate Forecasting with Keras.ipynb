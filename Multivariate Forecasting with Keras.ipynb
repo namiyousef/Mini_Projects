{
 "cells": [
  {
   "cell_type": "markdown",
   "metadata": {},
   "source": [
    "# Multivariate Forecasting with Keras\n",
    " \n",
    " In this Notebook I try a multivariate forecasting problem: trying to forecast the pollution in Beijing using LSTM networks. This tutorial is based on resources found on Machine Learning Mastery <cite data-cite=\"8115705/YWWN8867\"></cite>.\n"
   ]
  },
  {
   "cell_type": "markdown",
   "metadata": {},
   "source": [
    "# Necessary Libraries"
   ]
  },
  {
   "cell_type": "code",
   "execution_count": 35,
   "metadata": {},
   "outputs": [],
   "source": [
    "# mathematical\n",
    "from math import sqrt\n",
    "from numpy import concatenate\n",
    "\n",
    "# plotting\n",
    "import matplotlib.pyplot as plt\n",
    "\n",
    "# data exploration\n",
    "import pandas as pd\n",
    "from pandas import concat\n",
    "\n",
    "\n",
    "# preprocessing\n",
    "from sklearn.preprocessing import LabelEncoder\n",
    "from sklearn.preprocessing import MinMaxScaler\n",
    "from sklearn.model_selection import train_test_split\n",
    "\n",
    "# modelling\n",
    "from tensorflow.keras.models import Sequential\n",
    "from tensorflow.keras.layers import Dense\n",
    "from tensorflow.keras.layers import LSTM\n",
    "\n",
    "# evlauation\n",
    "from sklearn.metrics import mean_squared_error\n",
    "\n",
    "\n",
    "# other libraries\n",
    "from datetime import datetime"
   ]
  },
  {
   "cell_type": "markdown",
   "metadata": {},
   "source": [
    "# Dataset \n",
    "\n",
    "The dataset is modified from a UCI repository <cite data-cite=\"8115705/VPTCKM62\"></cite>.\n",
    "Note that some cells have been omitted as they contain sensitive information.\n",
    "When reading the data, a date parse was used to convert the date columns into datetime values."
   ]
  },
  {
   "cell_type": "code",
   "execution_count": 46,
   "metadata": {
    "hide_input": true
   },
   "outputs": [
    {
     "name": "stdout",
     "output_type": "stream",
     "text": [
      "--2020-09-06 17:15:34--  https://raw.githubusercontent.com/jbrownlee/Datasets/master/pollution.csv\n",
      "Resolving raw.githubusercontent.com (raw.githubusercontent.com)... 151.101.12.133\n",
      "Connecting to raw.githubusercontent.com (raw.githubusercontent.com)|151.101.12.133|:443... connected.\n",
      "HTTP request sent, awaiting response... 200 OK\n",
      "Length: 2010492 (1.9M) [text/plain]\n",
      "Saving to: ‘/Users/yousefnami/Desktop/Yousef/PrivateTings/My Stuff/Coding/Data Science/Repositories/Mini_Projects/Data/Beijing.csv’\n",
      "\n",
      "/Users/yousefnami/D 100%[===================>]   1.92M  1.34MB/s    in 1.4s    \n",
      "\n",
      "2020-09-06 17:15:36 (1.34 MB/s) - ‘/Users/yousefnami/Desktop/Yousef/PrivateTings/My Stuff/Coding/Data Science/Repositories/Mini_Projects/Data/Beijing.csv’ saved [2010492/2010492]\n",
      "\n"
     ]
    }
   ],
   "source": [
    "!wget -O /Users/yousefnami/Desktop/Yousef/PrivateTings/My\\ Stuff/Coding/Data\\ Science/Repositories/Mini_Projects/Data/Beijing.csv https://raw.githubusercontent.com/jbrownlee/Datasets/master/pollution.csv"
   ]
  },
  {
   "cell_type": "code",
   "execution_count": 47,
   "metadata": {
    "hide_input": true
   },
   "outputs": [
    {
     "data": {
      "text/html": [
       "<div>\n",
       "<style scoped>\n",
       "    .dataframe tbody tr th:only-of-type {\n",
       "        vertical-align: middle;\n",
       "    }\n",
       "\n",
       "    .dataframe tbody tr th {\n",
       "        vertical-align: top;\n",
       "    }\n",
       "\n",
       "    .dataframe thead th {\n",
       "        text-align: right;\n",
       "    }\n",
       "</style>\n",
       "<table border=\"1\" class=\"dataframe\">\n",
       "  <thead>\n",
       "    <tr style=\"text-align: right;\">\n",
       "      <th></th>\n",
       "      <th>No</th>\n",
       "      <th>pm2.5</th>\n",
       "      <th>DEWP</th>\n",
       "      <th>TEMP</th>\n",
       "      <th>PRES</th>\n",
       "      <th>cbwd</th>\n",
       "      <th>Iws</th>\n",
       "      <th>Is</th>\n",
       "      <th>Ir</th>\n",
       "    </tr>\n",
       "    <tr>\n",
       "      <th>year_month_day_hour</th>\n",
       "      <th></th>\n",
       "      <th></th>\n",
       "      <th></th>\n",
       "      <th></th>\n",
       "      <th></th>\n",
       "      <th></th>\n",
       "      <th></th>\n",
       "      <th></th>\n",
       "      <th></th>\n",
       "    </tr>\n",
       "  </thead>\n",
       "  <tbody>\n",
       "    <tr>\n",
       "      <th>2010-01-01 00:00:00</th>\n",
       "      <td>1</td>\n",
       "      <td>NaN</td>\n",
       "      <td>-21</td>\n",
       "      <td>-11.0</td>\n",
       "      <td>1021.0</td>\n",
       "      <td>NW</td>\n",
       "      <td>1.79</td>\n",
       "      <td>0</td>\n",
       "      <td>0</td>\n",
       "    </tr>\n",
       "    <tr>\n",
       "      <th>2010-01-01 01:00:00</th>\n",
       "      <td>2</td>\n",
       "      <td>NaN</td>\n",
       "      <td>-21</td>\n",
       "      <td>-12.0</td>\n",
       "      <td>1020.0</td>\n",
       "      <td>NW</td>\n",
       "      <td>4.92</td>\n",
       "      <td>0</td>\n",
       "      <td>0</td>\n",
       "    </tr>\n",
       "    <tr>\n",
       "      <th>2010-01-01 02:00:00</th>\n",
       "      <td>3</td>\n",
       "      <td>NaN</td>\n",
       "      <td>-21</td>\n",
       "      <td>-11.0</td>\n",
       "      <td>1019.0</td>\n",
       "      <td>NW</td>\n",
       "      <td>6.71</td>\n",
       "      <td>0</td>\n",
       "      <td>0</td>\n",
       "    </tr>\n",
       "    <tr>\n",
       "      <th>2010-01-01 03:00:00</th>\n",
       "      <td>4</td>\n",
       "      <td>NaN</td>\n",
       "      <td>-21</td>\n",
       "      <td>-14.0</td>\n",
       "      <td>1019.0</td>\n",
       "      <td>NW</td>\n",
       "      <td>9.84</td>\n",
       "      <td>0</td>\n",
       "      <td>0</td>\n",
       "    </tr>\n",
       "    <tr>\n",
       "      <th>2010-01-01 04:00:00</th>\n",
       "      <td>5</td>\n",
       "      <td>NaN</td>\n",
       "      <td>-20</td>\n",
       "      <td>-12.0</td>\n",
       "      <td>1018.0</td>\n",
       "      <td>NW</td>\n",
       "      <td>12.97</td>\n",
       "      <td>0</td>\n",
       "      <td>0</td>\n",
       "    </tr>\n",
       "  </tbody>\n",
       "</table>\n",
       "</div>"
      ],
      "text/plain": [
       "                     No  pm2.5  DEWP  TEMP    PRES cbwd    Iws  Is  Ir\n",
       "year_month_day_hour                                                   \n",
       "2010-01-01 00:00:00   1    NaN   -21 -11.0  1021.0   NW   1.79   0   0\n",
       "2010-01-01 01:00:00   2    NaN   -21 -12.0  1020.0   NW   4.92   0   0\n",
       "2010-01-01 02:00:00   3    NaN   -21 -11.0  1019.0   NW   6.71   0   0\n",
       "2010-01-01 03:00:00   4    NaN   -21 -14.0  1019.0   NW   9.84   0   0\n",
       "2010-01-01 04:00:00   5    NaN   -20 -12.0  1018.0   NW  12.97   0   0"
      ]
     },
     "execution_count": 47,
     "metadata": {},
     "output_type": "execute_result"
    }
   ],
   "source": [
    "path = '/Users/yousefnami/Desktop/Yousef/PrivateTings/My Stuff/Coding/Data Science/Repositories/Mini_Projects/Data/Beijing.csv'\n",
    "\n",
    "\n",
    "def parse(x):\n",
    "    \"\"\" to convert year, month, day, hour from dataframe to datetime format \"\"\"\n",
    "    return datetime.strptime(x,'%Y %m %d %H')\n",
    "\n",
    "\n",
    "df = pd.read_csv(path, parse_dates = [['year','month','day','hour']], index_col = 0, date_parser = parse)\n",
    "\n",
    "df.head()"
   ]
  },
  {
   "cell_type": "markdown",
   "metadata": {},
   "source": [
    "# Data cleaning"
   ]
  },
  {
   "cell_type": "code",
   "execution_count": 38,
   "metadata": {},
   "outputs": [
    {
     "data": {
      "text/html": [
       "<div>\n",
       "<style scoped>\n",
       "    .dataframe tbody tr th:only-of-type {\n",
       "        vertical-align: middle;\n",
       "    }\n",
       "\n",
       "    .dataframe tbody tr th {\n",
       "        vertical-align: top;\n",
       "    }\n",
       "\n",
       "    .dataframe thead th {\n",
       "        text-align: right;\n",
       "    }\n",
       "</style>\n",
       "<table border=\"1\" class=\"dataframe\">\n",
       "  <thead>\n",
       "    <tr style=\"text-align: right;\">\n",
       "      <th></th>\n",
       "      <th>pollution</th>\n",
       "      <th>dew</th>\n",
       "      <th>temp</th>\n",
       "      <th>press</th>\n",
       "      <th>wnd_dir</th>\n",
       "      <th>wnd_spd</th>\n",
       "      <th>snow</th>\n",
       "      <th>rain</th>\n",
       "    </tr>\n",
       "    <tr>\n",
       "      <th>date</th>\n",
       "      <th></th>\n",
       "      <th></th>\n",
       "      <th></th>\n",
       "      <th></th>\n",
       "      <th></th>\n",
       "      <th></th>\n",
       "      <th></th>\n",
       "      <th></th>\n",
       "    </tr>\n",
       "  </thead>\n",
       "  <tbody>\n",
       "    <tr>\n",
       "      <th>2010-01-02 00:00:00</th>\n",
       "      <td>129.0</td>\n",
       "      <td>-16</td>\n",
       "      <td>-4.0</td>\n",
       "      <td>1020.0</td>\n",
       "      <td>SE</td>\n",
       "      <td>1.79</td>\n",
       "      <td>0</td>\n",
       "      <td>0</td>\n",
       "    </tr>\n",
       "    <tr>\n",
       "      <th>2010-01-02 01:00:00</th>\n",
       "      <td>148.0</td>\n",
       "      <td>-15</td>\n",
       "      <td>-4.0</td>\n",
       "      <td>1020.0</td>\n",
       "      <td>SE</td>\n",
       "      <td>2.68</td>\n",
       "      <td>0</td>\n",
       "      <td>0</td>\n",
       "    </tr>\n",
       "    <tr>\n",
       "      <th>2010-01-02 02:00:00</th>\n",
       "      <td>159.0</td>\n",
       "      <td>-11</td>\n",
       "      <td>-5.0</td>\n",
       "      <td>1021.0</td>\n",
       "      <td>SE</td>\n",
       "      <td>3.57</td>\n",
       "      <td>0</td>\n",
       "      <td>0</td>\n",
       "    </tr>\n",
       "    <tr>\n",
       "      <th>2010-01-02 03:00:00</th>\n",
       "      <td>181.0</td>\n",
       "      <td>-7</td>\n",
       "      <td>-5.0</td>\n",
       "      <td>1022.0</td>\n",
       "      <td>SE</td>\n",
       "      <td>5.36</td>\n",
       "      <td>1</td>\n",
       "      <td>0</td>\n",
       "    </tr>\n",
       "    <tr>\n",
       "      <th>2010-01-02 04:00:00</th>\n",
       "      <td>138.0</td>\n",
       "      <td>-7</td>\n",
       "      <td>-5.0</td>\n",
       "      <td>1022.0</td>\n",
       "      <td>SE</td>\n",
       "      <td>6.25</td>\n",
       "      <td>2</td>\n",
       "      <td>0</td>\n",
       "    </tr>\n",
       "  </tbody>\n",
       "</table>\n",
       "</div>"
      ],
      "text/plain": [
       "                     pollution  dew  temp   press wnd_dir  wnd_spd  snow  rain\n",
       "date                                                                          \n",
       "2010-01-02 00:00:00      129.0  -16  -4.0  1020.0      SE     1.79     0     0\n",
       "2010-01-02 01:00:00      148.0  -15  -4.0  1020.0      SE     2.68     0     0\n",
       "2010-01-02 02:00:00      159.0  -11  -5.0  1021.0      SE     3.57     0     0\n",
       "2010-01-02 03:00:00      181.0   -7  -5.0  1022.0      SE     5.36     1     0\n",
       "2010-01-02 04:00:00      138.0   -7  -5.0  1022.0      SE     6.25     2     0"
      ]
     },
     "execution_count": 38,
     "metadata": {},
     "output_type": "execute_result"
    }
   ],
   "source": [
    "# drop 'No'\n",
    "df.drop('No',axis =1,inplace= True)\n",
    "\n",
    "# convert NaN to 0\n",
    "df.fillna(0,inplace =True)\n",
    "\n",
    "# column and index names\n",
    "df.columns = ['pollution', 'dew', 'temp', 'press', 'wnd_dir', 'wnd_spd', 'snow', 'rain']\n",
    "df.index.name = 'date'\n",
    "\n",
    "# ignore values with zero pollution\n",
    "df = df[df.pollution != 0]\n",
    "\n",
    "\n",
    "df.head()"
   ]
  },
  {
   "cell_type": "markdown",
   "metadata": {},
   "source": [
    "# Data Visualisation"
   ]
  },
  {
   "cell_type": "code",
   "execution_count": 39,
   "metadata": {},
   "outputs": [
    {
     "data": {
      "image/png": "[encoded data removed]",
      "text/plain": [
       "<Figure size 576x576 with 7 Axes>"
      ]
     },
     "metadata": {
      "needs_background": "light"
     },
     "output_type": "display_data"
    }
   ],
   "source": [
    "columns = df.columns.values.tolist()\n",
    "columns.remove('wnd_dir')\n",
    "\n",
    "plt.figure(figsize = (8,8))\n",
    "for index,column in enumerate(columns):\n",
    "    plt.subplot(len(columns),1,index+1)\n",
    "    plt.plot(df[column])\n",
    "    plt.title(column,y= 0.5,loc ='right')\n",
    "    if (column != 'rain'):\n",
    "        plt.xticks([])"
   ]
  },
  {
   "cell_type": "markdown",
   "metadata": {},
   "source": [
    "# Converting to supervised problem\n",
    "\n",
    "Note that the **series_to_supervised()** function was borrowed from Brownlee <cite data-cite=\"8115705/4QWWIWSF\"></cite>"
   ]
  },
  {
   "cell_type": "code",
   "execution_count": 40,
   "metadata": {},
   "outputs": [],
   "source": [
    "# convert series to supervised learning\n",
    "def series_to_supervised(data, n_in=1, n_out=1, dropnan=True):\n",
    "    \"\"\" function that receives numpy array or list of the data and converts it to a supervised dataset by creating\n",
    "    time shifted data.\n",
    "    Arguments:\n",
    "    data: the dataframe in numpy array or list format\n",
    "    n_in: this refers to how far back the algorithm should start the shifting\n",
    "    \n",
    "    i.e. if set to 1, then the current data would be at time = t-1\n",
    "    \n",
    "    n_out: this refers to how far forward the algorithm should do the forecasting for\n",
    "    i.e. if set to 1, then the 'forecast' would be until time = t\n",
    "    \n",
    "    dropnan: option to remove the the nan values \n",
    "    \"\"\"\n",
    "    n_vars = 1 if type(data) is list else data.shape[1]\n",
    "    df = pd.DataFrame(data)\n",
    "    cols, names = list(), list()\n",
    "    # input sequence (t-n, ... t-1)\n",
    "    for i in range(n_in, 0, -1):\n",
    "        cols.append(df.shift(i))\n",
    "        names += [('var%d(t-%d)' % (j+1, i)) for j in range(n_vars)]\n",
    "    # forecast sequence (t, t+1, ... t+n)\n",
    "    for i in range(0, n_out):\n",
    "        cols.append(df.shift(-i))\n",
    "        if i == 0:\n",
    "            names += [('var%d(t)' % (j+1)) for j in range(n_vars)]\n",
    "        else:\n",
    "            names += [('var%d(t+%d)' % (j+1, i)) for j in range(n_vars)]\n",
    "    # put it all together\n",
    "    agg = concat(cols, axis=1)\n",
    "    agg.columns = names\n",
    "    # drop rows with NaN values\n",
    "    if dropnan:\n",
    "        agg.dropna(inplace=True)\n",
    "    return agg"
   ]
  },
  {
   "cell_type": "code",
   "execution_count": 41,
   "metadata": {},
   "outputs": [
    {
     "data": {
      "text/html": [
       "<div>\n",
       "<style scoped>\n",
       "    .dataframe tbody tr th:only-of-type {\n",
       "        vertical-align: middle;\n",
       "    }\n",
       "\n",
       "    .dataframe tbody tr th {\n",
       "        vertical-align: top;\n",
       "    }\n",
       "\n",
       "    .dataframe thead th {\n",
       "        text-align: right;\n",
       "    }\n",
       "</style>\n",
       "<table border=\"1\" class=\"dataframe\">\n",
       "  <thead>\n",
       "    <tr style=\"text-align: right;\">\n",
       "      <th></th>\n",
       "      <th>var1(t-1)</th>\n",
       "      <th>var2(t-1)</th>\n",
       "      <th>var3(t-1)</th>\n",
       "      <th>var4(t-1)</th>\n",
       "      <th>var5(t-1)</th>\n",
       "      <th>var6(t-1)</th>\n",
       "      <th>var7(t-1)</th>\n",
       "      <th>var8(t-1)</th>\n",
       "      <th>var1(t)</th>\n",
       "      <th>var2(t)</th>\n",
       "      <th>var3(t)</th>\n",
       "      <th>var4(t)</th>\n",
       "      <th>var5(t)</th>\n",
       "      <th>var6(t)</th>\n",
       "      <th>var7(t)</th>\n",
       "      <th>var8(t)</th>\n",
       "    </tr>\n",
       "  </thead>\n",
       "  <tbody>\n",
       "    <tr>\n",
       "      <th>1</th>\n",
       "      <td>0.128902</td>\n",
       "      <td>0.352941</td>\n",
       "      <td>0.245902</td>\n",
       "      <td>0.527273</td>\n",
       "      <td>0.666667</td>\n",
       "      <td>0.002372</td>\n",
       "      <td>0.000000</td>\n",
       "      <td>0.0</td>\n",
       "      <td>0.148036</td>\n",
       "      <td>0.367647</td>\n",
       "      <td>0.245902</td>\n",
       "      <td>0.527273</td>\n",
       "      <td>0.666667</td>\n",
       "      <td>0.003947</td>\n",
       "      <td>0.000000</td>\n",
       "      <td>0.0</td>\n",
       "    </tr>\n",
       "    <tr>\n",
       "      <th>2</th>\n",
       "      <td>0.148036</td>\n",
       "      <td>0.367647</td>\n",
       "      <td>0.245902</td>\n",
       "      <td>0.527273</td>\n",
       "      <td>0.666667</td>\n",
       "      <td>0.003947</td>\n",
       "      <td>0.000000</td>\n",
       "      <td>0.0</td>\n",
       "      <td>0.159114</td>\n",
       "      <td>0.426471</td>\n",
       "      <td>0.229508</td>\n",
       "      <td>0.545454</td>\n",
       "      <td>0.666667</td>\n",
       "      <td>0.005522</td>\n",
       "      <td>0.000000</td>\n",
       "      <td>0.0</td>\n",
       "    </tr>\n",
       "    <tr>\n",
       "      <th>3</th>\n",
       "      <td>0.159114</td>\n",
       "      <td>0.426471</td>\n",
       "      <td>0.229508</td>\n",
       "      <td>0.545454</td>\n",
       "      <td>0.666667</td>\n",
       "      <td>0.005522</td>\n",
       "      <td>0.000000</td>\n",
       "      <td>0.0</td>\n",
       "      <td>0.181269</td>\n",
       "      <td>0.485294</td>\n",
       "      <td>0.229508</td>\n",
       "      <td>0.563637</td>\n",
       "      <td>0.666667</td>\n",
       "      <td>0.008690</td>\n",
       "      <td>0.037037</td>\n",
       "      <td>0.0</td>\n",
       "    </tr>\n",
       "    <tr>\n",
       "      <th>4</th>\n",
       "      <td>0.181269</td>\n",
       "      <td>0.485294</td>\n",
       "      <td>0.229508</td>\n",
       "      <td>0.563637</td>\n",
       "      <td>0.666667</td>\n",
       "      <td>0.008690</td>\n",
       "      <td>0.037037</td>\n",
       "      <td>0.0</td>\n",
       "      <td>0.137966</td>\n",
       "      <td>0.485294</td>\n",
       "      <td>0.229508</td>\n",
       "      <td>0.563637</td>\n",
       "      <td>0.666667</td>\n",
       "      <td>0.010265</td>\n",
       "      <td>0.074074</td>\n",
       "      <td>0.0</td>\n",
       "    </tr>\n",
       "    <tr>\n",
       "      <th>5</th>\n",
       "      <td>0.137966</td>\n",
       "      <td>0.485294</td>\n",
       "      <td>0.229508</td>\n",
       "      <td>0.563637</td>\n",
       "      <td>0.666667</td>\n",
       "      <td>0.010265</td>\n",
       "      <td>0.074074</td>\n",
       "      <td>0.0</td>\n",
       "      <td>0.108761</td>\n",
       "      <td>0.485294</td>\n",
       "      <td>0.213115</td>\n",
       "      <td>0.563637</td>\n",
       "      <td>0.666667</td>\n",
       "      <td>0.011840</td>\n",
       "      <td>0.111111</td>\n",
       "      <td>0.0</td>\n",
       "    </tr>\n",
       "  </tbody>\n",
       "</table>\n",
       "</div>"
      ],
      "text/plain": [
       "   var1(t-1)  var2(t-1)  var3(t-1)  var4(t-1)  var5(t-1)  var6(t-1)  \\\n",
       "1   0.128902   0.352941   0.245902   0.527273   0.666667   0.002372   \n",
       "2   0.148036   0.367647   0.245902   0.527273   0.666667   0.003947   \n",
       "3   0.159114   0.426471   0.229508   0.545454   0.666667   0.005522   \n",
       "4   0.181269   0.485294   0.229508   0.563637   0.666667   0.008690   \n",
       "5   0.137966   0.485294   0.229508   0.563637   0.666667   0.010265   \n",
       "\n",
       "   var7(t-1)  var8(t-1)   var1(t)   var2(t)   var3(t)   var4(t)   var5(t)  \\\n",
       "1   0.000000        0.0  0.148036  0.367647  0.245902  0.527273  0.666667   \n",
       "2   0.000000        0.0  0.159114  0.426471  0.229508  0.545454  0.666667   \n",
       "3   0.000000        0.0  0.181269  0.485294  0.229508  0.563637  0.666667   \n",
       "4   0.037037        0.0  0.137966  0.485294  0.229508  0.563637  0.666667   \n",
       "5   0.074074        0.0  0.108761  0.485294  0.213115  0.563637  0.666667   \n",
       "\n",
       "    var6(t)   var7(t)  var8(t)  \n",
       "1  0.003947  0.000000      0.0  \n",
       "2  0.005522  0.000000      0.0  \n",
       "3  0.008690  0.037037      0.0  \n",
       "4  0.010265  0.074074      0.0  \n",
       "5  0.011840  0.111111      0.0  "
      ]
     },
     "execution_count": 41,
     "metadata": {},
     "output_type": "execute_result"
    }
   ],
   "source": [
    "#practice run\n",
    "\n",
    "# load dataset\n",
    "values = df.values\n",
    "\n",
    "# integer encode direction\n",
    "encoder = LabelEncoder()\n",
    "values[:,4] = encoder.fit_transform(values[:,4])\n",
    "\n",
    "# ensure all data is float\n",
    "values = values.astype('float32')\n",
    "\n",
    "# normalize features\n",
    "scaler = MinMaxScaler(feature_range=(0, 1))\n",
    "scaled = scaler.fit_transform(values)\n",
    "\n",
    "# frame as supervised learning\n",
    "reframed = series_to_supervised(scaled, 1,1)\n",
    "\n",
    "reframed.head()"
   ]
  },
  {
   "cell_type": "markdown",
   "metadata": {},
   "source": [
    "Note thst at this point, we can use the data at (t-1) to 'predict' the data at (t). This makes the problem supervised, since the (t) parameters are now the target variable (**Y**) and the (t-1) are the predictors (**X**). Since we are only interested in predicting the 'pollution' (this would be variable 1), we can discard all of the target variables that are not pollution."
   ]
  },
  {
   "cell_type": "code",
   "execution_count": 42,
   "metadata": {},
   "outputs": [
    {
     "data": {
      "text/html": [
       "<div>\n",
       "<style scoped>\n",
       "    .dataframe tbody tr th:only-of-type {\n",
       "        vertical-align: middle;\n",
       "    }\n",
       "\n",
       "    .dataframe tbody tr th {\n",
       "        vertical-align: top;\n",
       "    }\n",
       "\n",
       "    .dataframe thead th {\n",
       "        text-align: right;\n",
       "    }\n",
       "</style>\n",
       "<table border=\"1\" class=\"dataframe\">\n",
       "  <thead>\n",
       "    <tr style=\"text-align: right;\">\n",
       "      <th></th>\n",
       "      <th>var1(t-1)</th>\n",
       "      <th>var2(t-1)</th>\n",
       "      <th>var3(t-1)</th>\n",
       "      <th>var4(t-1)</th>\n",
       "      <th>var5(t-1)</th>\n",
       "      <th>var6(t-1)</th>\n",
       "      <th>var7(t-1)</th>\n",
       "      <th>var8(t-1)</th>\n",
       "      <th>var1(t)</th>\n",
       "    </tr>\n",
       "  </thead>\n",
       "  <tbody>\n",
       "    <tr>\n",
       "      <th>1</th>\n",
       "      <td>0.128902</td>\n",
       "      <td>0.352941</td>\n",
       "      <td>0.245902</td>\n",
       "      <td>0.527273</td>\n",
       "      <td>0.666667</td>\n",
       "      <td>0.002372</td>\n",
       "      <td>0.000000</td>\n",
       "      <td>0.0</td>\n",
       "      <td>0.148036</td>\n",
       "    </tr>\n",
       "    <tr>\n",
       "      <th>2</th>\n",
       "      <td>0.148036</td>\n",
       "      <td>0.367647</td>\n",
       "      <td>0.245902</td>\n",
       "      <td>0.527273</td>\n",
       "      <td>0.666667</td>\n",
       "      <td>0.003947</td>\n",
       "      <td>0.000000</td>\n",
       "      <td>0.0</td>\n",
       "      <td>0.159114</td>\n",
       "    </tr>\n",
       "    <tr>\n",
       "      <th>3</th>\n",
       "      <td>0.159114</td>\n",
       "      <td>0.426471</td>\n",
       "      <td>0.229508</td>\n",
       "      <td>0.545454</td>\n",
       "      <td>0.666667</td>\n",
       "      <td>0.005522</td>\n",
       "      <td>0.000000</td>\n",
       "      <td>0.0</td>\n",
       "      <td>0.181269</td>\n",
       "    </tr>\n",
       "    <tr>\n",
       "      <th>4</th>\n",
       "      <td>0.181269</td>\n",
       "      <td>0.485294</td>\n",
       "      <td>0.229508</td>\n",
       "      <td>0.563637</td>\n",
       "      <td>0.666667</td>\n",
       "      <td>0.008690</td>\n",
       "      <td>0.037037</td>\n",
       "      <td>0.0</td>\n",
       "      <td>0.137966</td>\n",
       "    </tr>\n",
       "    <tr>\n",
       "      <th>5</th>\n",
       "      <td>0.137966</td>\n",
       "      <td>0.485294</td>\n",
       "      <td>0.229508</td>\n",
       "      <td>0.563637</td>\n",
       "      <td>0.666667</td>\n",
       "      <td>0.010265</td>\n",
       "      <td>0.074074</td>\n",
       "      <td>0.0</td>\n",
       "      <td>0.108761</td>\n",
       "    </tr>\n",
       "  </tbody>\n",
       "</table>\n",
       "</div>"
      ],
      "text/plain": [
       "   var1(t-1)  var2(t-1)  var3(t-1)  var4(t-1)  var5(t-1)  var6(t-1)  \\\n",
       "1   0.128902   0.352941   0.245902   0.527273   0.666667   0.002372   \n",
       "2   0.148036   0.367647   0.245902   0.527273   0.666667   0.003947   \n",
       "3   0.159114   0.426471   0.229508   0.545454   0.666667   0.005522   \n",
       "4   0.181269   0.485294   0.229508   0.563637   0.666667   0.008690   \n",
       "5   0.137966   0.485294   0.229508   0.563637   0.666667   0.010265   \n",
       "\n",
       "   var7(t-1)  var8(t-1)   var1(t)  \n",
       "1   0.000000        0.0  0.148036  \n",
       "2   0.000000        0.0  0.159114  \n",
       "3   0.000000        0.0  0.181269  \n",
       "4   0.037037        0.0  0.137966  \n",
       "5   0.074074        0.0  0.108761  "
      ]
     },
     "execution_count": 42,
     "metadata": {},
     "output_type": "execute_result"
    }
   ],
   "source": [
    "# discard other variables\n",
    "\n",
    "reframed.drop(reframed.columns[[i for i in range(9,len(reframed.columns))]],axis = 1,inplace = True)\n",
    "\n",
    "reframed.head()"
   ]
  },
  {
   "cell_type": "markdown",
   "metadata": {},
   "source": [
    "# Preparing data for modelling\n",
    "\n",
    "Note that at this point, the data has already been noramlized due to **series_to_supervised()**"
   ]
  },
  {
   "cell_type": "code",
   "execution_count": 43,
   "metadata": {},
   "outputs": [
    {
     "name": "stdout",
     "output_type": "stream",
     "text": [
      "(31315, 1, 8) (10439, 1, 8) (31315,) (10439,)\n"
     ]
    },
    {
     "data": {
      "text/plain": [
       "\" Not sure what the 'timesteps' reshape is achieving here... I understand what it does conceptually though \""
      ]
     },
     "execution_count": 43,
     "metadata": {},
     "output_type": "execute_result"
    }
   ],
   "source": [
    "values = reframed.values\n",
    "X = values[:,:-1]\n",
    "y = values[:,-1]\n",
    "X_train, X_test, y_train, y_test = train_test_split(X,y, test_size = 0.25, random_state = 42)\n",
    "\"\"\" Note: this is actually incorrect... we are not trying to test the accuracy of the model... we want to see \n",
    "how well is can FORECAST data. Therefore the best way to do this is to split the data chronologically and not \n",
    "randomly \"\"\"\n",
    "\n",
    "# reshape into 3D [samples, timesteps, features]\n",
    "X_train = X_train.reshape(X_train.shape[0],1,X_train.shape[1])\n",
    "X_test = X_test.reshape(X_test.shape[0],1,X_test.shape[1])\n",
    "print(X_train.shape,X_test.shape,y_train.shape,y_test.shape)\n",
    "\"\"\" Not sure what the 'timesteps' reshape is achieving here... I understand what it does conceptually though \"\"\"\n"
   ]
  },
  {
   "cell_type": "code",
   "execution_count": 44,
   "metadata": {},
   "outputs": [
    {
     "name": "stdout",
     "output_type": "stream",
     "text": [
      "Epoch 1/50\n",
      "435/435 - 2s - loss: 0.0287 - val_loss: 0.0144\n",
      "Epoch 2/50\n",
      "435/435 - 1s - loss: 0.0134 - val_loss: 0.0143\n",
      "Epoch 3/50\n",
      "435/435 - 1s - loss: 0.0133 - val_loss: 0.0140\n",
      "Epoch 4/50\n",
      "435/435 - 1s - loss: 0.0132 - val_loss: 0.0134\n",
      "Epoch 5/50\n",
      "435/435 - 1s - loss: 0.0132 - val_loss: 0.0131\n",
      "Epoch 6/50\n",
      "435/435 - 1s - loss: 0.0132 - val_loss: 0.0134\n",
      "Epoch 7/50\n",
      "435/435 - 1s - loss: 0.0132 - val_loss: 0.0135\n",
      "Epoch 8/50\n",
      "435/435 - 1s - loss: 0.0132 - val_loss: 0.0134\n",
      "Epoch 9/50\n",
      "435/435 - 1s - loss: 0.0132 - val_loss: 0.0132\n",
      "Epoch 10/50\n",
      "435/435 - 1s - loss: 0.0132 - val_loss: 0.0132\n",
      "Epoch 11/50\n",
      "435/435 - 1s - loss: 0.0132 - val_loss: 0.0134\n",
      "Epoch 12/50\n",
      "435/435 - 1s - loss: 0.0132 - val_loss: 0.0133\n",
      "Epoch 13/50\n",
      "435/435 - 1s - loss: 0.0132 - val_loss: 0.0130\n",
      "Epoch 14/50\n",
      "435/435 - 1s - loss: 0.0132 - val_loss: 0.0130\n",
      "Epoch 15/50\n",
      "435/435 - 1s - loss: 0.0131 - val_loss: 0.0131\n",
      "Epoch 16/50\n",
      "435/435 - 1s - loss: 0.0131 - val_loss: 0.0132\n",
      "Epoch 17/50\n",
      "435/435 - 1s - loss: 0.0131 - val_loss: 0.0131\n",
      "Epoch 18/50\n",
      "435/435 - 1s - loss: 0.0131 - val_loss: 0.0130\n",
      "Epoch 19/50\n",
      "435/435 - 1s - loss: 0.0131 - val_loss: 0.0132\n",
      "Epoch 20/50\n",
      "435/435 - 1s - loss: 0.0131 - val_loss: 0.0129\n",
      "Epoch 21/50\n",
      "435/435 - 1s - loss: 0.0132 - val_loss: 0.0131\n",
      "Epoch 22/50\n",
      "435/435 - 1s - loss: 0.0132 - val_loss: 0.0130\n",
      "Epoch 23/50\n",
      "435/435 - 1s - loss: 0.0132 - val_loss: 0.0129\n",
      "Epoch 24/50\n",
      "435/435 - 1s - loss: 0.0131 - val_loss: 0.0129\n",
      "Epoch 25/50\n",
      "435/435 - 1s - loss: 0.0131 - val_loss: 0.0129\n",
      "Epoch 26/50\n",
      "435/435 - 1s - loss: 0.0131 - val_loss: 0.0129\n",
      "Epoch 27/50\n",
      "435/435 - 1s - loss: 0.0131 - val_loss: 0.0129\n",
      "Epoch 28/50\n",
      "435/435 - 1s - loss: 0.0131 - val_loss: 0.0129\n",
      "Epoch 29/50\n",
      "435/435 - 1s - loss: 0.0131 - val_loss: 0.0130\n",
      "Epoch 30/50\n",
      "435/435 - 1s - loss: 0.0131 - val_loss: 0.0130\n",
      "Epoch 31/50\n",
      "435/435 - 2s - loss: 0.0131 - val_loss: 0.0129\n",
      "Epoch 32/50\n",
      "435/435 - 2s - loss: 0.0131 - val_loss: 0.0129\n",
      "Epoch 33/50\n",
      "435/435 - 2s - loss: 0.0131 - val_loss: 0.0130\n",
      "Epoch 34/50\n",
      "435/435 - 2s - loss: 0.0132 - val_loss: 0.0130\n",
      "Epoch 35/50\n",
      "435/435 - 1s - loss: 0.0131 - val_loss: 0.0129\n",
      "Epoch 36/50\n",
      "435/435 - 2s - loss: 0.0131 - val_loss: 0.0129\n",
      "Epoch 37/50\n",
      "435/435 - 1s - loss: 0.0131 - val_loss: 0.0129\n",
      "Epoch 38/50\n",
      "435/435 - 2s - loss: 0.0132 - val_loss: 0.0128\n",
      "Epoch 39/50\n",
      "435/435 - 1s - loss: 0.0131 - val_loss: 0.0128\n",
      "Epoch 40/50\n",
      "435/435 - 1s - loss: 0.0131 - val_loss: 0.0128\n",
      "Epoch 41/50\n",
      "435/435 - 1s - loss: 0.0131 - val_loss: 0.0128\n",
      "Epoch 42/50\n",
      "435/435 - 1s - loss: 0.0131 - val_loss: 0.0128\n",
      "Epoch 43/50\n",
      "435/435 - 1s - loss: 0.0131 - val_loss: 0.0128\n",
      "Epoch 44/50\n",
      "435/435 - 1s - loss: 0.0131 - val_loss: 0.0128\n",
      "Epoch 45/50\n",
      "435/435 - 1s - loss: 0.0131 - val_loss: 0.0128\n",
      "Epoch 46/50\n",
      "435/435 - 1s - loss: 0.0131 - val_loss: 0.0128\n",
      "Epoch 47/50\n",
      "435/435 - 1s - loss: 0.0131 - val_loss: 0.0128\n",
      "Epoch 48/50\n",
      "435/435 - 1s - loss: 0.0131 - val_loss: 0.0128\n",
      "Epoch 49/50\n",
      "435/435 - 2s - loss: 0.0131 - val_loss: 0.0128\n",
      "Epoch 50/50\n",
      "435/435 - 2s - loss: 0.0131 - val_loss: 0.0128\n"
     ]
    },
    {
     "data": {
      "image/png": "[encoded data removed]",
      "text/plain": [
       "<Figure size 432x288 with 1 Axes>"
      ]
     },
     "metadata": {
      "needs_background": "light"
     },
     "output_type": "display_data"
    }
   ],
   "source": [
    "# design network\n",
    "model = Sequential()\n",
    "model.add(LSTM(50, input_shape=(X_train.shape[1],X_train.shape[2])))\n",
    "model.add(Dense(1))\n",
    "model.compile(loss='mae', optimizer='adam')\n",
    "\n",
    "# fit network\n",
    "history = model.fit(X_train, y_train, epochs=50, batch_size=72, validation_data=(X_test, y_test), verbose=2, shuffle=False)\n",
    "\n",
    "# plot history\n",
    "plt.plot(history.history['loss'], label='train')\n",
    "plt.plot(history.history['val_loss'], label='test')\n",
    "plt.legend()\n",
    "plt.show()"
   ]
  },
  {
   "cell_type": "code",
   "execution_count": 45,
   "metadata": {
    "hide_input": true
   },
   "outputs": [
    {
     "name": "stdout",
     "output_type": "stream",
     "text": [
      "Test RMSE: 24.617\n"
     ]
    },
    {
     "data": {
      "text/plain": [
       "[<matplotlib.lines.Line2D at 0x1a3cce3e90>]"
      ]
     },
     "execution_count": 45,
     "metadata": {},
     "output_type": "execute_result"
    },
    {
     "data": {
      "image/png": "[encoded data removed]",
      "text/plain": [
       "<Figure size 432x288 with 1 Axes>"
      ]
     },
     "metadata": {
      "needs_background": "light"
     },
     "output_type": "display_data"
    }
   ],
   "source": [
    "# make a prediction\n",
    "yhat = model.predict(X_test)\n",
    "X_test = X_test.reshape((X_test.shape[0], X_test.shape[2]))\n",
    "# invert scaling for forecast\n",
    "inv_yhat = concatenate((yhat, X_test[:, 1:]), axis=1)\n",
    "inv_yhat = scaler.inverse_transform(inv_yhat)\n",
    "inv_yhat = inv_yhat[:,0]\n",
    "# invert scaling for actual\n",
    "y_test = y_test.reshape((len(y_test), 1))\n",
    "inv_y = concatenate((y_test, X_test[:, 1:]), axis=1)\n",
    "inv_y = scaler.inverse_transform(inv_y)\n",
    "inv_y = inv_y[:,0]\n",
    "# calculate RMSE\n",
    "rmse = sqrt(mean_squared_error(inv_y, inv_yhat))\n",
    "print('Test RMSE: %.3f' % rmse)\n",
    "\n",
    "plt.plot(X_test[:,1],yhat,'r.')\n",
    "plt.plot(X_test[:,1],y_test,'b.')"
   ]
  },
  {
   "cell_type": "markdown",
   "metadata": {},
   "source": [
    "# References\n",
    "<div class=\"cite2c-biblio\"></div>"
   ]
  }
 ],
 "metadata": {
  "cite2c": {
   "citations": {
    "8115705/4QWWIWSF": {
     "URL": "https://machinelearningmastery.com/convert-time-series-supervised-learning-problem-python/",
     "accessed": {
      "day": 6,
      "month": 9,
      "year": 2020
     },
     "author": [
      {
       "family": "Brownlee",
       "given": "Jason"
      }
     ],
     "id": "8115705/4QWWIWSF",
     "issued": {
      "day": 8,
      "month": 5,
      "year": 2017
     },
     "title": "Convert time series to supervised learning problem",
     "type": "webpage"
    },
    "8115705/VPTCKM62": {
     "URL": "https://raw.githubusercontent.com/jbrownlee/Datasets/master/pollution.csv",
     "author": [
      {
       "family": "Brownlee",
       "given": "Jason"
      }
     ],
     "id": "8115705/VPTCKM62",
     "title": "Beijing PM2.5 Data Set",
     "type": "article"
    },
    "8115705/YWWN8867": {
     "URL": "https://machinelearningmastery.com/multivariate-time-series-forecasting-lstms-keras/",
     "accessed": {
      "day": 6,
      "month": 9,
      "year": 2020
     },
     "author": [
      {
       "family": "Brownlee",
       "given": "Jason"
      }
     ],
     "id": "8115705/YWWN8867",
     "issued": {
      "day": 14,
      "month": 8,
      "year": 2017
     },
     "language": "English",
     "title": "Multivariate Time Series Forecasting with LSTMs in Keras",
     "type": "webpage"
    }
   }
  },
  "kernelspec": {
   "display_name": "Python 3",
   "language": "python",
   "name": "python3"
  }
 },
 "nbformat": 4,
 "nbformat_minor": 4
}
